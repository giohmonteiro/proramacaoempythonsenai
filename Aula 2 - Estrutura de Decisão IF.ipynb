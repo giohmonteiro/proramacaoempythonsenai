{
 "cells": [
  {
   "cell_type": "markdown",
   "id": "7b638406",
   "metadata": {},
   "source": [
    "Exercício 01 – Crie uma variável chamada \"idade\" e atribua um valor inteiro a ela.\n",
    "Verifique se a idade é maior ou igual a 18 e imprima \"Maior de idade\" ou \"Menor de\n",
    "idade\" de acordo com a condição.\n"
   ]
  },
  {
   "cell_type": "code",
   "execution_count": null,
   "id": "055cdc01",
   "metadata": {},
   "outputs": [],
   "source": [
    "idade = input (\"Informe sua idade: \")\n",
    "\n",
    "idade = int(idade)\n",
    "\n",
    "if idade < 18:\n",
    "    print(\"Menor de Idade\")\n",
    "else:\n",
    "    print (\"Maior de Idade\")\n"
   ]
  },
  {
   "cell_type": "markdown",
   "id": "92f855ca",
   "metadata": {},
   "source": [
    "Exercício 02 - Crie uma variável chamada \"número\" e atribua um valor inteiro a ela.\n",
    "Verifique se o número é positivo, negativo e imprima a mensagem\n",
    "correspondente."
   ]
  },
  {
   "cell_type": "code",
   "execution_count": null,
   "id": "5cd2d5a3",
   "metadata": {},
   "outputs": [],
   "source": [
    "numero = input(\"Digite o número inteiro: \" )\n",
    "    \n",
    "numero = int (numero)\n",
    "\n",
    "if numero >0 :\n",
    "    print (\"Positivo\")\n",
    "    \n",
    "#colocar elif quando for mais de duas condições\n",
    "\n",
    "elif numero == 0:\n",
    "    print(\"Nulo\")\n",
    "    \n",
    "else:\n",
    "    \n",
    "           print(\"Negativo\")"
   ]
  },
  {
   "cell_type": "markdown",
   "id": "274287f4",
   "metadata": {},
   "source": [
    "Exercício 03 - Crie duas variáveis, \"nota1\" e \"nota2\", e atribua valores numéricos a elas.\n",
    "Verifique se a média das notas é maior ou igual a 7 e imprima \"Aprovado\" ou\n",
    "\"Reprovado\" de acordo com a condição."
   ]
  },
  {
   "cell_type": "code",
   "execution_count": null,
   "id": "4c529e85",
   "metadata": {},
   "outputs": [],
   "source": [
    "nota1 = input (\"Digite a nota 1: \")\n",
    "\n",
    "nota1 = float (nota1)\n",
    "\n",
    "nota2 = input (\"Digite a nota 2: \")\n",
    "\n",
    "nota2 = float (nota2)\n",
    "\n",
    "media = (nota1 + nota2)/2\n",
    "\n",
    "print(\"Sua media é:\", media)\n",
    "\n",
    "if media >= 7:\n",
    "    print(f\"Você foi Aprovado! Sua final foi de  {media} . Parabéns!\")\n",
    "    \n",
    "    # F e \"\"{} chaves\" faz com que uma string vire um numero\n",
    "    \n",
    "else:\n",
    "    print(f\"Você foi Reprovado! Sua media final foi de: {media} . Sinto Muito\")"
   ]
  },
  {
   "cell_type": "markdown",
   "id": "2bde9418",
   "metadata": {},
   "source": [
    "Exercício 04 - Crie uma variável chamada \"idade\" e atribua um valor inteiro a ela.\n",
    "Verifique se a idade está dentro do intervalo de 18 a 30 (inclusive) e imprima a\n",
    "mensagem \"Idade válida\" ou \"Idade inválida\" de acordo com a condição."
   ]
  },
  {
   "cell_type": "code",
   "execution_count": null,
   "id": "a4320ad9",
   "metadata": {},
   "outputs": [],
   "source": [
    "idade = int (input(\"Digite sua idade: \"))\n",
    "\n",
    "if idade >=18 and idade <=30:\n",
    "    print(\"Idade válida\")\n",
    "    \n",
    "    #usar and para condições simultaneas\n",
    "    \n",
    "else:\n",
    "        print(\"Idade Inválida\")"
   ]
  },
  {
   "cell_type": "markdown",
   "id": "ab9e1ca8",
   "metadata": {},
   "source": [
    "Exercício 05 - Crie uma variável chamada \"numero\" e atribua um valor inteiro a ela.\n",
    "Verifique se o número é par ou ímpar e imprima a mensagem correspondente."
   ]
  },
  {
   "cell_type": "code",
   "execution_count": null,
   "id": "29294b0d",
   "metadata": {},
   "outputs": [],
   "source": [
    "numero = int (input(\"Digite o numero que deseja verificar: \"))\n",
    "\n",
    "if numero % 2 == 0:\n",
    "    \n",
    "    print(\"O número é par\")\n",
    "\n",
    "else:\n",
    "\n",
    "    print ( \"O número é impar \")\n"
   ]
  },
  {
   "cell_type": "markdown",
   "id": "dee7f652",
   "metadata": {},
   "source": [
    "Exercício 06 - Crie uma variável chamada \"horario\" e atribua um valor inteiro\n",
    "representando a hora do dia (em formato 24 horas). Verifique se o horário está dentro\n",
    "do período da manhã (das 6h às 12h), da tarde (das 12h às 18h) ou da noite (das 18h\n",
    "às 23h) e imprima a mensagem correspondente."
   ]
  },
  {
   "cell_type": "code",
   "execution_count": null,
   "id": "40ab4c42",
   "metadata": {},
   "outputs": [],
   "source": [
    "horario = int(input(\"Entre com o Horario \"))\n",
    "\n",
    "if horario >=6 and horario <12:\n",
    "    print (\"Periodo da manha\")\n",
    "    \n",
    "elif horario >=12 and horario <18:\n",
    "    print(\"Periodo da tarde\")\n",
    "    \n",
    "elif horario >=18 and horario <=23:\n",
    "    print(\"Periodo da noite\")\n",
    "\n",
    "else:\n",
    "    print(\" Horario Invalido \")\n",
    "\n",
    "\n",
    "    \n",
    "    "
   ]
  },
  {
   "cell_type": "markdown",
   "id": "df883d92",
   "metadata": {},
   "source": [
    "Exercício 07 - Crie uma variável chamada \"peso\" e atribua um valor numérico a ela.\n",
    "Verifique se o peso está dentro do intervalo de 50 a 100 (inclusive) e imprima a\n",
    "mensagem \"Peso válido\" ou \"Peso inválido\" de acordo com a condição."
   ]
  },
  {
   "cell_type": "code",
   "execution_count": null,
   "id": "fc5fb780",
   "metadata": {},
   "outputs": [],
   "source": [
    "peso = float (input(\"Qual seria o peso?\"))\n",
    "\n",
    "if peso <=50 and peso >=100:\n",
    "    print(\"Peso válido\")\n",
    "    \n",
    "else :\n",
    "    print (\"Peso inválido\")"
   ]
  },
  {
   "cell_type": "markdown",
   "id": "c653d101",
   "metadata": {},
   "source": [
    "Exercício 08 - Crie uma variável chamada \"numero\" e atribua um valor inteiro a ela.\n",
    "Verifique se o número é múltiplo de 3 e de 5 ao mesmo tempo e imprima a mensagem\n",
    "correspondente."
   ]
  },
  {
   "cell_type": "code",
   "execution_count": null,
   "id": "adfea90f",
   "metadata": {},
   "outputs": [],
   "source": [
    "numero = int (input(\"Entre com o número: \"))\n",
    "\n",
    "if numero % 3 ==0 and numero %5 ==0:\n",
    "    print(\"Correspondente\" )\n",
    "\n",
    "else:\n",
    "    print(\"Não correspondente\")"
   ]
  },
  {
   "cell_type": "markdown",
   "id": "162e20ae",
   "metadata": {},
   "source": [
    "Exercício 09 - Crie uma variável chamada \"ano\" e atribua um valor inteiro\n",
    "representando um ano. Verifique se o ano é bissexto (divisível por 4, mas não por 100,\n",
    "exceto se for divisível por 400) e imprima a mensagem correspondente."
   ]
  },
  {
   "cell_type": "code",
   "execution_count": null,
   "id": "670a8592",
   "metadata": {},
   "outputs": [],
   "source": [
    "ano = int (input (\"Entre com o ano\"))\n",
    "\n",
    "\n",
    "if (ano % 4 ==0 and ano %100 != 0) or ano % 400 == 0:\n",
    "    \n",
    "    #or é usado se for esse ou aquele \n",
    "    \n",
    "    print(\"Ano bissexto\")\n",
    "else:\n",
    "    print(\"Ano normal\")\n"
   ]
  },
  {
   "cell_type": "markdown",
   "id": "c04a7583",
   "metadata": {},
   "source": [
    "Exercício 10 - Crie uma variável chamada \"salario\" e atribua um valor numérico a ela.\n",
    "Verifique se o salário é maior do que 1000 e menor do que 2000 ao mesmo tempo e\n",
    "imprima a mensagem correspondente."
   ]
  },
  {
   "cell_type": "code",
   "execution_count": null,
   "id": "acd4655c",
   "metadata": {},
   "outputs": [],
   "source": [
    "salario = (float(input(\"Qual o salario: \")))\n",
    "\n",
    "if salario >=1000 and salario <=2000:\n",
    "    print( \"Correspondente\")\n",
    "    \n",
    "else :\n",
    "    print (\"Inválido\")"
   ]
  },
  {
   "cell_type": "markdown",
   "id": "3eae7a9b",
   "metadata": {},
   "source": [
    "Exercício 11 - Faça um Programa que peça dois números e imprima o maior deles."
   ]
  },
  {
   "cell_type": "code",
   "execution_count": null,
   "id": "9a734486",
   "metadata": {},
   "outputs": [],
   "source": [
    "valor1 =(float(input(\"Entre com o valor 1: \")))\n",
    "\n",
    "valor2 = (float(input(\"Entre com o valor 2: \")))\n",
    "\n",
    "if valor1 > valor2:\n",
    "   print(\"o maior valor é o valor 1\", valor1)\n",
    "\n",
    "else:\n",
    "    print(\"o maior valor é o valor 2:  \", valor2)\n",
    " \n"
   ]
  },
  {
   "cell_type": "markdown",
   "id": "0f859fa9",
   "metadata": {},
   "source": [
    "Exercício 12 - Faça um Programa que peça um valor e mostre na tela se o valor é\n",
    "positivo ou negativo."
   ]
  },
  {
   "cell_type": "code",
   "execution_count": null,
   "id": "c538a3f5",
   "metadata": {},
   "outputs": [],
   "source": [
    "valor = (float(input(\"Digite o valor: \" )))\n",
    "    \n",
    "\n",
    "if valor >0 :\n",
    "    print (\"Positivo\")\n",
    "    \n",
    "#colocar elif quando for mais de duas condições\n",
    "\n",
    "elif valor == 0:\n",
    "    print(\"Nulo\")\n",
    "    \n",
    "else:\n",
    "    \n",
    "           print(\"Negativo\") "
   ]
  },
  {
   "cell_type": "markdown",
   "id": "cf2a0327",
   "metadata": {},
   "source": [
    "Exercício 13 - Faça um Programa que verifique se uma letra digitada é \"F\" ou \"M\".\n",
    "Conforme a letra escrever: F - Feminino, M - Masculino, Sexo Inválido."
   ]
  },
  {
   "cell_type": "code",
   "execution_count": null,
   "id": "7571208e",
   "metadata": {},
   "outputs": [],
   "source": [
    "Letra =(input(\"Entre com a Letra:  \"))\n",
    "\n",
    "\n",
    "if Letra == \"F\" :\n",
    "    print(\"F - Feminino\")\n",
    "\n",
    "else:\n",
    "    print( \"M- Masculino, Sexo Inválido\")"
   ]
  },
  {
   "cell_type": "markdown",
   "id": "5a834f7b",
   "metadata": {},
   "source": [
    "Exercício 14 - Faça um Programa que verifique se uma letra digitada é vogal ou\n",
    "consoante."
   ]
  },
  {
   "cell_type": "code",
   "execution_count": null,
   "id": "62f1f836",
   "metadata": {},
   "outputs": [],
   "source": [
    "Letra = (input(\"Insira sua letra: \"))\n",
    "Letra = Letra.lower()\n",
    "\n",
    "#palavra.lower() = para que ela fique minuscula\n",
    "\n",
    "if Letra == \"a\" or Letra== \"e\" or Letra== \"i\" or Letra==\"o\" or Letra ==\"u\":\n",
    "    print( \"Vogal\")\n",
    "\n",
    "else:\n",
    "    print (\"Consoante\")"
   ]
  },
  {
   "cell_type": "markdown",
   "id": "b8f81a23",
   "metadata": {},
   "source": [
    "Exercício 15 - Faça um programa para a leitura de duas notas parciais de um aluno. O\n",
    "programa deve calcular a média alcançada por aluno e apresentar:\n",
    "• A mensagem \"Aprovado\", se a média alcançada for maior ou igual a sete;\n",
    "• A mensagem \"Reprovado\", se a média for menor do que sete;\n",
    "• A mensagem \"Aprovado com Distinção\", se a média for igual a dez."
   ]
  },
  {
   "cell_type": "code",
   "execution_count": 3,
   "id": "01ae63c7",
   "metadata": {},
   "outputs": [
    {
     "name": "stdout",
     "output_type": "stream",
     "text": [
      "Entre com a Nota 1: 10\n",
      "Entre com a Nota 2: 10\n",
      "Você foi Aprovado com Distinção com a media: 10.0\n"
     ]
    }
   ],
   "source": [
    "nota1 = (float(input(\"Entre com a Nota 1: \")))\n",
    "\n",
    "nota2 = (float(input(\"Entre com a Nota 2: \")))\n",
    "\n",
    "media = (nota1+ nota2)/2\n",
    "\n",
    "if media >=7 and media <10:\n",
    "    print(f\"Você foi aprovado com a media: {media}\")\n",
    "    \n",
    "elif media <7:\n",
    "        print(f\"Voce foi reprovado com a media: {media} \")\n",
    "        \n",
    "else:\n",
    "    print(f\"Você foi Aprovado com Distinção com a media: {media}\")"
   ]
  },
  {
   "cell_type": "markdown",
   "id": "0fc8cbb0",
   "metadata": {},
   "source": [
    "Exercício 16 - Faça um Programa que leia três números e mostre o maior deles."
   ]
  },
  {
   "cell_type": "code",
   "execution_count": 8,
   "id": "64a4fd24",
   "metadata": {},
   "outputs": [
    {
     "name": "stdout",
     "output_type": "stream",
     "text": [
      "Entre com o valor 1: 4\n",
      "Entre com o valor 2: 5\n",
      "Entre com o valor 3:  12\n",
      "o maior valor é o valor 3:   12.0\n"
     ]
    }
   ],
   "source": [
    "valor1 =(float(input(\"Entre com o valor 1: \")))\n",
    "\n",
    "valor2 = (float(input(\"Entre com o valor 2: \")))\n",
    "\n",
    "valor3 =(float(input(\"Entre com o valor 3:  \")))\n",
    "\n",
    "if valor1 > valor2 and valor1 > valor3:\n",
    "    print(\"o maior valor é o valor 1\", valor1)\n",
    "    \n",
    "\n",
    "elif valor2>valor1 and valor2>valor3:\n",
    "    print(\"O maior valor é o valor 2\",valor2)\n",
    "\n",
    "else:\n",
    "    print(\"o maior valor é o valor 3:  \", valor3)"
   ]
  }
 ],
 "metadata": {
  "kernelspec": {
   "display_name": "Python 3 (ipykernel)",
   "language": "python",
   "name": "python3"
  },
  "language_info": {
   "codemirror_mode": {
    "name": "ipython",
    "version": 3
   },
   "file_extension": ".py",
   "mimetype": "text/x-python",
   "name": "python",
   "nbconvert_exporter": "python",
   "pygments_lexer": "ipython3",
   "version": "3.10.9"
  }
 },
 "nbformat": 4,
 "nbformat_minor": 5
}
