{
 "cells": [
  {
   "cell_type": "markdown",
   "id": "53fbd661",
   "metadata": {},
   "source": [
    "Exercício 17 - Faça um Programa que leia três números e mostre o maior e o menor\n",
    "deles."
   ]
  },
  {
   "cell_type": "code",
   "execution_count": null,
   "id": "57ecc111",
   "metadata": {},
   "outputs": [],
   "source": [
    "valor1 = float((input(\"Entre com o primeiro valor:  \")))\n",
    "\n",
    "valor2 = float((input(\"Entre com o segundo valor:  \"))) \n",
    "\n",
    "valor3 = float((input(\"Entre com o terceiro valor:  \")))\n",
    "\n",
    "if valor1 > valor2 and valor1 > valor3:\n",
    "    print(\"o maior valor é o valor 1: \", valor1)\n",
    "    \n",
    "    \n",
    "elif valor2>valor1 and valor2>valor3:\n",
    "    print(\"O maior valor é o valor 2\",valor2)\n",
    "\n",
    "elif valor3>valor1 and valor>valor2:\n",
    "    print(\"o maior valor é o valor 3:  \", valor3)\n",
    "\n",
    "if valor1<valor2 and valor1<valor2:\n",
    "    print(\"O menor valor é o valor 1\", valor1)\n",
    "    \n",
    "elif valor2<valor1 and valor2<valor3:\n",
    "    print(\"O menor valor é o valor 2: \", valor2)\n",
    "    \n",
    "else: \n",
    "    print(\"o menor valor é o 3: \", valor3)\n",
    "\n",
    "\n",
    "    \n",
    "\n",
    "\n"
   ]
  },
  {
   "cell_type": "markdown",
   "id": "f6859c74",
   "metadata": {},
   "source": [
    "Exercício 18 - Faça um programa que pergunte o preço de três produtos e informe qual\n",
    "produto você deve comprar, sabendo que a decisão é sempre pelo mais barato."
   ]
  },
  {
   "cell_type": "code",
   "execution_count": null,
   "id": "1e136f76",
   "metadata": {},
   "outputs": [],
   "source": [
    "preço1 = float(input(\"Qual o preço da geladeira: \"))\n",
    "\n",
    "preço2 =  float(input(\"Qual o preço do produto microondas: \"))\n",
    "\n",
    "preço3 =  float(input(\"Qual o preço do aspirador: \"))\n",
    "\n",
    "if preço1<preço2 and preço1<preço3:\n",
    "    print(\"O prduto a se comprar é a geladeira, no preço de: \", preço1)\n",
    "    \n",
    "elif preço2<preço1 and preço2<preço3:\n",
    "    print(\"o produto a se comprar é o microondas, no preço de : \",preço2)\n",
    "    \n",
    "else:\n",
    "    print(\"O produto a se comprar é o  aspirador, no preço de:\", preço3)"
   ]
  },
  {
   "cell_type": "markdown",
   "id": "d347f0b3",
   "metadata": {},
   "source": [
    "Exercício 19 - Faça um Programa que leia três números e mostre-os em ordem\n",
    "decrescente.\n"
   ]
  },
  {
   "cell_type": "code",
   "execution_count": null,
   "id": "082f0a1f",
   "metadata": {},
   "outputs": [],
   "source": [
    "n1 = float(input(\"Entre com o primeiro número:  \"))\n",
    "\n",
    "n2 = float(input(\"Entre com o segundo número:  \"))\n",
    "\n",
    "n3 = float(input(\"Entre com o terceiro número:  \"))\n",
    "\n",
    "numeros = n1, n2, n3\n",
    "\n",
    "sorted(numeros, reverse=True) \n",
    "\n",
    "\n",
    "\n"
   ]
  },
  {
   "cell_type": "markdown",
   "id": "9c2bd6b1",
   "metadata": {},
   "source": [
    "Exercício 20 - Faça um Programa que pergunte em que turno você estuda. Peça para\n",
    "digitar M-matutino ou V-Vespertino ou N- Noturno. Imprima a mensagem \"Bom Dia!\",\n",
    "\"Boa Tarde!\" ou \"Boa Noite!\" ou \"Valor Inválido!\", conforme o caso."
   ]
  },
  {
   "cell_type": "code",
   "execution_count": null,
   "id": "907c9757",
   "metadata": {},
   "outputs": [],
   "source": [
    "horario = (input(\"Qual seu horario de aula?:  \"))\n",
    "\n",
    "if horario ==  'M matutino':\n",
    "    print(\"Bom dia!\")\n",
    "    \n",
    "elif horario == 'V-Vespertino':\n",
    "    print(\"Boa tarde!\")\n",
    "    \n",
    "else:\n",
    "    print(\"Boa noite!\")"
   ]
  },
  {
   "cell_type": "markdown",
   "id": "5ad90576",
   "metadata": {},
   "source": [
    "Exercício 21 - As Organizações Tabajara resolveram dar um aumento de salário aos\n",
    "seus colaboradores e lhe contaram para desenvolver o programa que calculará os\n",
    "reajustes. Faça um programa que recebe o salário de um colaborador e o reajuste\n",
    "segundo o seguinte critério, baseado no salário atual:\n",
    "\n",
    "• salários até R$ 280,00 (incluindo) : aumento de 20%\n",
    "• salários entre R$ 280,00 e R$ 700,00 : aumento de 15%\n",
    "• salários entre R$ 700,00 e R$ 1500,00 : aumento de 10%\n",
    "• salários de R$ 1500,00 em diante : aumento de 5%\n",
    "\n",
    "Após o aumento ser realizado, informe na tela:\n",
    "\n",
    "• salário antes do reajuste;\n",
    "• percentual de aumento aplicado;\n",
    "• valor do aumento;\n",
    "• novo salário, após o aumento."
   ]
  },
  {
   "cell_type": "code",
   "execution_count": 1,
   "id": "374d9991",
   "metadata": {},
   "outputs": [
    {
     "name": "stdout",
     "output_type": "stream",
     "text": [
      "Entre com o salario:  1500\n",
      "O salario de 1500.0 obtve reajuste de 5%, o que é equivalente há 75.0, resultando em um novo salario de 1575.0 \n"
     ]
    }
   ],
   "source": [
    "salario = float(input(\"Entre com o salario:  \"))\n",
    "\n",
    "salario201= salario * 0.20 \n",
    "salario202= (salario * 0.20) + salario\n",
    "\n",
    "salario151= salario * 0.15\n",
    "salario152= (salario * 0.15) + salario\n",
    "\n",
    "salario101 = salario * 0.10\n",
    "salario102 = (salario * 0.10)+salario\n",
    "\n",
    "salario051= salario * 0.05\n",
    "salario052= (salario * 0.05) + salario\n",
    "\n",
    "if salario < 280 and salario >=200:\n",
    "    print(f\"O salario de {salario} obtve reajuste de 20%, o que é equivalente há {salario201}, resultando em um novo salario de {salario202} \")\n",
    "\n",
    "elif salario < 700 and salario >= 280:\n",
    "    print(f\"O salario de {salario} obtve reajuste de 15%, o que é equivalente há {salario151}, resultando em um novo salario de {salario152} \")\n",
    "\n",
    "\n",
    "elif salario < 1500 and salario  <= 700:\n",
    "    print(f\"O salario de {salario} obtve reajuste de 10%, o que é equivalente há {salario101}, resultando em um novo salario de {salario102} \")\n",
    "    \n",
    "    \n",
    "else:\n",
    "    print(f\"O salario de {salario} obtve reajuste de 5%, o que é equivalente há {salario051}.Resultando em um novo salario de {salario052} \")"
   ]
  },
  {
   "cell_type": "markdown",
   "id": "f2aff172",
   "metadata": {},
   "source": [
    "Exercício 23 ́- Faça um Programa que leia um número e exiba o dia correspondente da\n",
    "semana. (1- Domingo, 2- Segunda, etc.), se digitar outro valor deve aparecer valor\n",
    "inválido."
   ]
  },
  {
   "cell_type": "code",
   "execution_count": 7,
   "id": "7cce4f96",
   "metadata": {},
   "outputs": [
    {
     "name": "stdout",
     "output_type": "stream",
     "text": [
      "Entre com o numero para corresponder ao dia da semana 6\n",
      "O dia da semana é Sexta-Feira. Seeextooou!\n"
     ]
    }
   ],
   "source": [
    "dia = int(input(\"Entre com o numero para corresponder ao dia da semana \"))\n",
    "\n",
    "if dia ==2:\n",
    "    print(\"O dia da semana é Segunda-feira\")\n",
    "    \n",
    "elif dia == 3:\n",
    "    print(\" O dia da semana é Terça-feira\")\n",
    "    \n",
    "elif dia ==4:\n",
    "    print(\"O dia da semana é Quarta-Feira\")\n",
    "\n",
    "elif dia ==5:\n",
    "    print(\"O dia da semana é Quinta-Feira\")\n",
    "    \n",
    "elif dia==6:\n",
    "    print(\"O dia da semana é Sexta-Feira. Seeextooou!\")\n",
    "    \n",
    "elif dia==7:\n",
    "    print(\"O dia da semana é Sabado\")\n",
    "    \n",
    "elif dia == 1:\n",
    "    print(\"O dia da semana é domingo :(\")\n",
    "    \n",
    "else:\n",
    "     print(\"Dia Invalido. Insira outro valor\")"
   ]
  },
  {
   "cell_type": "markdown",
   "id": "0932b87a",
   "metadata": {},
   "source": [
    "Exercício 22 - Faça um programa para o cálculo de uma folha de pagamento, sabendo\n",
    "que os descontos são do Imposto de Renda, que depende do salário bruto (conforme\n",
    "tabela abaixo) e 3% para o Sindicato e que o FGTS corresponde a 11% do Salário Bruto,\n",
    "mas não é descontado (é a empresa que deposita). O Salário Líquido corresponde ao\n",
    "Salário Bruto menos os descontos. O programa deverá pedir ao usuário o valor da sua\n",
    "hora e a quantidade de horas trabalhadas no mês.\n",
    "Desconto do IR:\n",
    "• Salário Bruto até 900 (inclusive) – isento\n",
    "• Salário Bruto até 1500 (inclusive) - desconto de 5%\n",
    "• Salário Bruto até 2500 (inclusive) - desconto de 10%\n",
    "• Salário Bruto acima de 2500 - desconto de 20%\n",
    "Imprima na tela as informações, dispostas conforme o exemplo abaixo. No exemplo o\n",
    "valor da hora é 5 e a quantidade de hora é 220."
   ]
  },
  {
   "cell_type": "code",
   "execution_count": null,
   "id": "a0a7f371",
   "metadata": {},
   "outputs": [],
   "source": [
    "valorhora = float(input(\"Entre com o valor por hora trabalhada:   \"))\n",
    "quantidadehora= float(input('Entre com a quantidade de horas trablhadas: '))\n",
    "\n",
    "salariobruto = valorhora * quantidadehora\n",
    "\n",
    "salario900 = salariobruto - (salariobruto *0.3)"
   ]
  }
 ],
 "metadata": {
  "kernelspec": {
   "display_name": "Python 3 (ipykernel)",
   "language": "python",
   "name": "python3"
  },
  "language_info": {
   "codemirror_mode": {
    "name": "ipython",
    "version": 3
   },
   "file_extension": ".py",
   "mimetype": "text/x-python",
   "name": "python",
   "nbconvert_exporter": "python",
   "pygments_lexer": "ipython3",
   "version": "3.11.3"
  }
 },
 "nbformat": 4,
 "nbformat_minor": 5
}
