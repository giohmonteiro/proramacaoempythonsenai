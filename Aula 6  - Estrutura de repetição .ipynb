{
 "cells": [
  {
   "cell_type": "markdown",
   "id": "a7ef158d",
   "metadata": {},
   "source": [
    "Exercício 14 - Faça um programa que peça 10 números inteiros, calcule e mostre a \n",
    "quantidade de números pares e a quantidade de números ímpares"
   ]
  },
  {
   "cell_type": "code",
   "execution_count": null,
   "id": "018a76c2",
   "metadata": {},
   "outputs": [],
   "source": [
    "numeros = []\n",
    "\n",
    "#-------------------------------------- Solicitar os núemros ao usuario \n",
    "\n",
    "i = 1\n",
    "\n",
    "while i <= 10 :\n",
    "\n",
    "        num = int(input('Entre com o número : '))\n",
    "        \n",
    "        numeros.append(num)\n",
    "          \n",
    "        i = i + 1\n",
    "        \n",
    "\n",
    "print (numeros)\n",
    "\n",
    "\n",
    "#----------------------------------------------------Calcular a quantidade de numeros pares e impares.\n",
    "par = 0\n",
    "impar = 0\n",
    "\n",
    "for x in numeros: \n",
    "    if x %2 == 0 :\n",
    "        par = par + 1\n",
    "        \n",
    "    else:\n",
    "        impar = impar + 1\n",
    "        \n",
    "        \n",
    "print(f'Foram localizados {par} numeros pares')\n",
    "\n",
    "print(f'Foram localizados {impar} numeros impares ')\n",
    "\n",
    "\n",
    "    "
   ]
  },
  {
   "cell_type": "markdown",
   "id": "2857b1b9",
   "metadata": {},
   "source": [
    "Exercício 15 - A série de Fibonacci é formada pela sequência 1,1,2,3,5,8,13,21,34,55,... \n",
    "Faça um programa capaz de gerar a série até o enésimo termo"
   ]
  },
  {
   "cell_type": "code",
   "execution_count": null,
   "id": "393a92d4",
   "metadata": {},
   "outputs": [],
   "source": [
    "quantidade_num= int(input(\"Digite a quantidade de termos a serem geredados \"))\n",
    "\n",
    "serieF = [1] # a serie fibonacci sempre se inicia com 1\n",
    "\n",
    "i = 0\n",
    "\n",
    "while i <= quantidade_num: #Repetir o bloco ate o valor de i ser igual a quantidade_num\n",
    "    if serieF [0] == 1 and i == 0: # i é a variavel que representa a posição na lista e o while a repetição.\n",
    "        serieF.append (1)\n",
    "        print (\"O valor do contador \", i)\n",
    "        print (serieF)\n",
    "        \n",
    "    else :\n",
    "        a = serieF [i] + serieF [i-1]\n",
    "        serieF.append (a)\n",
    "        print (\"O valor do contador \", i)\n",
    "        print (serieF)\n",
    "        \n",
    "    i = i + 1\n",
    "\n",
    "\n",
    "\n",
    "\n",
    "\n",
    "        \n",
    "        \n",
    "\n",
    "\n",
    "    "
   ]
  },
  {
   "cell_type": "markdown",
   "id": "a2766cd8",
   "metadata": {},
   "source": [
    "Exercício 16 - A série de Fibonacci é formada pela sequência \n",
    "0,1,1,2,3,5,8,13,21,34,55,... Faça um programa que gere a série até que o valor seja \n",
    "maior que 500."
   ]
  },
  {
   "cell_type": "code",
   "execution_count": 2,
   "id": "2364b25e",
   "metadata": {},
   "outputs": [
    {
     "name": "stdout",
     "output_type": "stream",
     "text": [
      "[1, 1, 2, 3, 5, 8, 13, 21, 34, 55, 89, 144, 233, 377]\n"
     ]
    }
   ],
   "source": [
    "serieF = [1,1] # a serie fibonacci sempre se inicia com 1\n",
    "\n",
    "i = 0\n",
    "\n",
    "while serieF [-1] <=500: #verifica se o ultimo elemento  é menor do que 500\n",
    "    \n",
    "    a = serieF [-1] + serieF [-2] #ultimo elemento e penultimo elemento \n",
    "    if a >500:\n",
    "        break #Sair da repetição\n",
    "    \n",
    "    serieF.append (a)\n",
    "\n",
    "print (serieF)\n",
    "\n",
    "   "
   ]
  },
  {
   "cell_type": "markdown",
   "id": "e4a9f81c",
   "metadata": {},
   "source": [
    "Exercício 24 - Faça um programa que calcule o mostre a média aritmética de N notas."
   ]
  },
  {
   "cell_type": "code",
   "execution_count": 8,
   "id": "e4be91f3",
   "metadata": {},
   "outputs": [
    {
     "name": "stdout",
     "output_type": "stream",
     "text": [
      "Digite a nota. (Para sair digite S)5\n",
      "Digite a nota. (Para sair digite S)5\n",
      "Digite a nota. (Para sair digite S)5\n",
      "Digite a nota. (Para sair digite S)5\n",
      "Digite a nota. (Para sair digite S)5\n",
      "Digite a nota. (Para sair digite S)s\n"
     ]
    },
    {
     "ename": "ValueError",
     "evalue": "could not convert string to float: 's'",
     "output_type": "error",
     "traceback": [
      "\u001b[1;31m---------------------------------------------------------------------------\u001b[0m",
      "\u001b[1;31mValueError\u001b[0m                                Traceback (most recent call last)",
      "Cell \u001b[1;32mIn[8], line 10\u001b[0m\n\u001b[0;32m      4\u001b[0m entrada \u001b[38;5;241m=\u001b[39m \u001b[38;5;28minput\u001b[39m(\u001b[38;5;124m\"\u001b[39m\u001b[38;5;124mDigite a nota. (Para sair digite S)\u001b[39m\u001b[38;5;124m\"\u001b[39m)\n\u001b[0;32m      8\u001b[0m \u001b[38;5;28;01mwhile\u001b[39;00m entrada\u001b[38;5;241m.\u001b[39mlower() \u001b[38;5;241m!=\u001b[39m \u001b[38;5;124m\"\u001b[39m\u001b[38;5;124mS\u001b[39m\u001b[38;5;124m\"\u001b[39m: \u001b[38;5;66;03m#Enquanto não for S, faça \u001b[39;00m\n\u001b[1;32m---> 10\u001b[0m       notas\u001b[38;5;241m.\u001b[39mappend (\u001b[38;5;28;43mfloat\u001b[39;49m\u001b[43m(\u001b[49m\u001b[43mentrada\u001b[49m\u001b[43m)\u001b[49m)\n\u001b[0;32m     11\u001b[0m       entrada \u001b[38;5;241m=\u001b[39m \u001b[38;5;28minput\u001b[39m(\u001b[38;5;124m\"\u001b[39m\u001b[38;5;124mDigite a nota. (Para sair digite S)\u001b[39m\u001b[38;5;124m\"\u001b[39m)\n\u001b[0;32m     15\u001b[0m \u001b[38;5;66;03m#------------------------------------------media\u001b[39;00m\n",
      "\u001b[1;31mValueError\u001b[0m: could not convert string to float: 's'"
     ]
    }
   ],
   "source": [
    "notas = []\n",
    "\n",
    "#------------------------------------------solictação de valores/ add na lista \n",
    "entrada = input(\"Digite a nota. (Para sair digite S)\")\n",
    "\n",
    "\n",
    "\n",
    "while entrada.lower() != \"S\": #Enquanto não for S, faça \n",
    "   \n",
    "      notas.append (float(entrada))\n",
    "      entrada = input(\"Digite a nota. (Para sair digite S)\")\n",
    "    \n",
    "    \n",
    "\n",
    "#------------------------------------------media\n",
    "soma = 0\n",
    "\n",
    "for n in notas:\n",
    "    print(n)\n",
    "    soma = n + soma\n",
    "    \n",
    "elementos = len(notas) #len tamanho de elementos da lista \n",
    "\n",
    "media = soma / elementos\n",
    "\n",
    "print (f\"A media dos valores é : {media}\")"
   ]
  },
  {
   "cell_type": "code",
   "execution_count": null,
   "id": "f57760f0",
   "metadata": {},
   "outputs": [],
   "source": []
  }
 ],
 "metadata": {
  "kernelspec": {
   "display_name": "Python 3 (ipykernel)",
   "language": "python",
   "name": "python3"
  },
  "language_info": {
   "codemirror_mode": {
    "name": "ipython",
    "version": 3
   },
   "file_extension": ".py",
   "mimetype": "text/x-python",
   "name": "python",
   "nbconvert_exporter": "python",
   "pygments_lexer": "ipython3",
   "version": "3.10.9"
  }
 },
 "nbformat": 4,
 "nbformat_minor": 5
}
