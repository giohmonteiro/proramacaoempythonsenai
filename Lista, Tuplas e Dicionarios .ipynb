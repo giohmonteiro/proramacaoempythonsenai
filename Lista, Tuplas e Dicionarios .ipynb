{
 "cells": [
  {
   "cell_type": "code",
   "execution_count": 9,
   "id": "4095e917",
   "metadata": {},
   "outputs": [
    {
     "name": "stdout",
     "output_type": "stream",
     "text": [
      "<class 'list'>\n",
      "<class 'list'>\n"
     ]
    },
    {
     "data": {
      "text/plain": [
       "['Amanda', 'Bruno', 'João ', 'Giovanna']"
      ]
     },
     "execution_count": 9,
     "metadata": {},
     "output_type": "execute_result"
    }
   ],
   "source": [
    "alunos = [\"Amanda\", \"Ana\", \"Bruno\", \"João \"]\n",
    "notas = [10,8.5,7.8,8]\n",
    "\n",
    "alunos [3] #retornar um elemento da lista \n",
    "\n",
    "#verificando o tipo de dado\n",
    "\n",
    "print(type(alunos))\n",
    "print(type(notas))\n",
    "\n",
    "#Adicionar um novo elemento\n",
    "alunos.append(\"Giovanna\")\n",
    "\n",
    "alunos\n",
    "\n",
    "#Remover um elemento\n",
    "alunos.remove(\"Ana\")\n",
    "alunos"
   ]
  },
  {
   "cell_type": "markdown",
   "id": "5ba8c4eb",
   "metadata": {},
   "source": []
  },
  {
   "cell_type": "markdown",
   "id": "3045fbf2",
   "metadata": {},
   "source": [
    "TUPLAS"
   ]
  },
  {
   "cell_type": "code",
   "execution_count": 10,
   "id": "5a05ee63",
   "metadata": {},
   "outputs": [
    {
     "ename": "TypeError",
     "evalue": "'tuple' object does not support item assignment",
     "output_type": "error",
     "traceback": [
      "\u001b[1;31m---------------------------------------------------------------------------\u001b[0m",
      "\u001b[1;31mTypeError\u001b[0m                                 Traceback (most recent call last)",
      "Cell \u001b[1;32mIn[10], line 4\u001b[0m\n\u001b[0;32m      1\u001b[0m valores \u001b[38;5;241m=\u001b[39m (\u001b[38;5;241m90\u001b[39m, \u001b[38;5;241m79\u001b[39m, \u001b[38;5;241m54\u001b[39m, \u001b[38;5;241m32\u001b[39m, \u001b[38;5;241m21\u001b[39m)\n\u001b[0;32m      2\u001b[0m pontos \u001b[38;5;241m=\u001b[39m (\u001b[38;5;241m100\u001b[39m, \u001b[38;5;241m94.05\u001b[39m, \u001b[38;5;241m86.8\u001b[39m, \u001b[38;5;241m62\u001b[39m)\n\u001b[1;32m----> 4\u001b[0m valores[\u001b[38;5;241m1\u001b[39m]\u001b[38;5;241m=\u001b[39m\u001b[38;5;241m25\u001b[39m\n",
      "\u001b[1;31mTypeError\u001b[0m: 'tuple' object does not support item assignment"
     ]
    }
   ],
   "source": [
    "valores = (90, 79, 54, 32, 21)\n",
    "pontos = (100, 94.05, 86.8, 62)\n",
    "\n",
    "valores[1]=25"
   ]
  },
  {
   "cell_type": "code",
   "execution_count": 13,
   "id": "b3dc611d",
   "metadata": {},
   "outputs": [],
   "source": [
    "my_list = [1,2] #criando uma  lista\n",
    "\n",
    "my_tuple = (1,2) #Criando uma tupla\n",
    "\n",
    "other_tupla = (3,4) #criando uma tupla\n",
    "\n",
    "my_list [1] = 3 #subistiuindo um elemnto de uma lista"
   ]
  },
  {
   "cell_type": "code",
   "execution_count": null,
   "id": "41a41f5f",
   "metadata": {},
   "outputs": [],
   "source": [
    "#Tratamento de erro vai executar as ações do bloco TRY,caso não haja erro\n",
    "#Se houver um erro, ele vai executar ações do bloco Except TypeError\n",
    "\n",
    "try:\n",
    "    my.tuple[1] = 3\n",
    "    \n",
    "except TypeError:\n",
    "    print(\"Você não pode modificar um tupla!\")"
   ]
  },
  {
   "cell_type": "markdown",
   "id": "4b0bcaf4",
   "metadata": {},
   "source": [
    "função"
   ]
  },
  {
   "cell_type": "code",
   "execution_count": 17,
   "id": "e77a8497",
   "metadata": {},
   "outputs": [
    {
     "data": {
      "text/plain": [
       "(12, 20)"
      ]
     },
     "execution_count": 17,
     "metadata": {},
     "output_type": "execute_result"
    }
   ],
   "source": [
    "def sum_and_product (x,y):\n",
    "    return (x + y), (x *y)\n",
    "\n",
    "sum_and_product(10,2)\n",
    "\n",
    "\n",
    "#com o return não precisa do print"
   ]
  },
  {
   "cell_type": "code",
   "execution_count": null,
   "id": "cc19e3f9",
   "metadata": {},
   "outputs": [],
   "source": [
    "s, p = sum_and_product (5,10)#s é 15  p50"
   ]
  },
  {
   "cell_type": "markdown",
   "id": "a0fad0db",
   "metadata": {},
   "source": []
  },
  {
   "cell_type": "markdown",
   "id": "bb7ea41d",
   "metadata": {},
   "source": [
    "Dicionario (dict)"
   ]
  },
  {
   "cell_type": "code",
   "execution_count": 25,
   "id": "1337b482",
   "metadata": {},
   "outputs": [
    {
     "name": "stdout",
     "output_type": "stream",
     "text": [
      "<class 'dict'>\n",
      "<class 'dict'>\n",
      "A altura do João é: 1.7\n",
      "O peso da Amanda é:  65\n"
     ]
    }
   ],
   "source": [
    "altura= {'Amanda':1.65,'Ana':1.60, 'João': 1.70}\n",
    "peso = {'Amanda':65, 'Ana':86, 'João':170 }\n",
    "\n",
    "print(type(altura))\n",
    "print(type(peso))\n",
    "\n",
    "print('A altura do João é:',altura['João'])\n",
    "print('O peso da Amanda é: ',peso ['Amanda'])\n"
   ]
  },
  {
   "cell_type": "code",
   "execution_count": 31,
   "id": "d56e3ef2",
   "metadata": {},
   "outputs": [
    {
     "data": {
      "text/plain": [
       "{'nome': 'Tania',\n",
       " 'idade': 35,\n",
       " 'fruta': 'laranja',\n",
       " 'cor': 'roxa',\n",
       " 'musica': 'Forró',\n",
       " 'sobrenome': 'Gomes'}"
      ]
     },
     "execution_count": 31,
     "metadata": {},
     "output_type": "execute_result"
    }
   ],
   "source": [
    "cadastro = {\n",
    "    'nome' :'Tania',\n",
    "    'idade':35,\n",
    "    'fruta':'uva',\n",
    "    'cor': 'roxa',\n",
    "    'musica': 'Forró'\n",
    "}\n",
    "\n",
    "cadastro ['fruta'] = 'laranja'\n",
    "\n",
    "cadastro ['sobrenome'] = 'Gomes'\n",
    "#add campo \n",
    "\n",
    "cadastro"
   ]
  },
  {
   "cell_type": "code",
   "execution_count": null,
   "id": "9c15521a",
   "metadata": {},
   "outputs": [],
   "source": [
    "del cadastro ['musica']\n",
    "\n",
    "cadastro #para apagar"
   ]
  },
  {
   "cell_type": "code",
   "execution_count": null,
   "id": "c0dac233",
   "metadata": {},
   "outputs": [],
   "source": [
    "cadastro.upadte({'nome:'ana'})"
   ]
  }
 ],
 "metadata": {
  "kernelspec": {
   "display_name": "Python 3 (ipykernel)",
   "language": "python",
   "name": "python3"
  },
  "language_info": {
   "codemirror_mode": {
    "name": "ipython",
    "version": 3
   },
   "file_extension": ".py",
   "mimetype": "text/x-python",
   "name": "python",
   "nbconvert_exporter": "python",
   "pygments_lexer": "ipython3",
   "version": "3.10.9"
  }
 },
 "nbformat": 4,
 "nbformat_minor": 5
}
